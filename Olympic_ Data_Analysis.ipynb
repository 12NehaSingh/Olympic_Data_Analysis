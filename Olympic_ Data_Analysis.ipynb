{
 "cells": [
  {
   "cell_type": "code",
   "execution_count": 1,
   "id": "52e8970d",
   "metadata": {},
   "outputs": [],
   "source": [
    "import numpy as np\n",
    "import pandas as pd "
   ]
  },
  {
   "cell_type": "code",
   "execution_count": 2,
   "id": "984cbdb7",
   "metadata": {},
   "outputs": [],
   "source": [
    "df=pd.read_csv(r\"C:\\Users\\DELL\\Desktop\\athlete_events.csv\")\n",
    "region_df=pd.read_csv(r\"C:\\Users\\DELL\\Desktop\\noc_regions.csv\")"
   ]
  },
  {
   "cell_type": "code",
   "execution_count": 3,
   "id": "b3e01d41",
   "metadata": {},
   "outputs": [
    {
     "data": {
      "text/html": [
       "<div>\n",
       "<style scoped>\n",
       "    .dataframe tbody tr th:only-of-type {\n",
       "        vertical-align: middle;\n",
       "    }\n",
       "\n",
       "    .dataframe tbody tr th {\n",
       "        vertical-align: top;\n",
       "    }\n",
       "\n",
       "    .dataframe thead th {\n",
       "        text-align: right;\n",
       "    }\n",
       "</style>\n",
       "<table border=\"1\" class=\"dataframe\">\n",
       "  <thead>\n",
       "    <tr style=\"text-align: right;\">\n",
       "      <th></th>\n",
       "      <th>ID</th>\n",
       "      <th>Name</th>\n",
       "      <th>Sex</th>\n",
       "      <th>Age</th>\n",
       "      <th>Height</th>\n",
       "      <th>Weight</th>\n",
       "      <th>Team</th>\n",
       "      <th>NOC</th>\n",
       "      <th>Games</th>\n",
       "      <th>Year</th>\n",
       "      <th>Season</th>\n",
       "      <th>City</th>\n",
       "      <th>Sport</th>\n",
       "      <th>Event</th>\n",
       "      <th>Medal</th>\n",
       "    </tr>\n",
       "  </thead>\n",
       "  <tbody>\n",
       "    <tr>\n",
       "      <th>0</th>\n",
       "      <td>1</td>\n",
       "      <td>A Dijiang</td>\n",
       "      <td>M</td>\n",
       "      <td>24.0</td>\n",
       "      <td>180.0</td>\n",
       "      <td>80.0</td>\n",
       "      <td>China</td>\n",
       "      <td>CHN</td>\n",
       "      <td>1992 Summer</td>\n",
       "      <td>1992</td>\n",
       "      <td>Summer</td>\n",
       "      <td>Barcelona</td>\n",
       "      <td>Basketball</td>\n",
       "      <td>Basketball Men's Basketball</td>\n",
       "      <td>NaN</td>\n",
       "    </tr>\n",
       "    <tr>\n",
       "      <th>1</th>\n",
       "      <td>2</td>\n",
       "      <td>A Lamusi</td>\n",
       "      <td>M</td>\n",
       "      <td>23.0</td>\n",
       "      <td>170.0</td>\n",
       "      <td>60.0</td>\n",
       "      <td>China</td>\n",
       "      <td>CHN</td>\n",
       "      <td>2012 Summer</td>\n",
       "      <td>2012</td>\n",
       "      <td>Summer</td>\n",
       "      <td>London</td>\n",
       "      <td>Judo</td>\n",
       "      <td>Judo Men's Extra-Lightweight</td>\n",
       "      <td>NaN</td>\n",
       "    </tr>\n",
       "    <tr>\n",
       "      <th>2</th>\n",
       "      <td>3</td>\n",
       "      <td>Gunnar Nielsen Aaby</td>\n",
       "      <td>M</td>\n",
       "      <td>24.0</td>\n",
       "      <td>NaN</td>\n",
       "      <td>NaN</td>\n",
       "      <td>Denmark</td>\n",
       "      <td>DEN</td>\n",
       "      <td>1920 Summer</td>\n",
       "      <td>1920</td>\n",
       "      <td>Summer</td>\n",
       "      <td>Antwerpen</td>\n",
       "      <td>Football</td>\n",
       "      <td>Football Men's Football</td>\n",
       "      <td>NaN</td>\n",
       "    </tr>\n",
       "    <tr>\n",
       "      <th>3</th>\n",
       "      <td>4</td>\n",
       "      <td>Edgar Lindenau Aabye</td>\n",
       "      <td>M</td>\n",
       "      <td>34.0</td>\n",
       "      <td>NaN</td>\n",
       "      <td>NaN</td>\n",
       "      <td>Denmark/Sweden</td>\n",
       "      <td>DEN</td>\n",
       "      <td>1900 Summer</td>\n",
       "      <td>1900</td>\n",
       "      <td>Summer</td>\n",
       "      <td>Paris</td>\n",
       "      <td>Tug-Of-War</td>\n",
       "      <td>Tug-Of-War Men's Tug-Of-War</td>\n",
       "      <td>Gold</td>\n",
       "    </tr>\n",
       "    <tr>\n",
       "      <th>4</th>\n",
       "      <td>5</td>\n",
       "      <td>Christine Jacoba Aaftink</td>\n",
       "      <td>F</td>\n",
       "      <td>21.0</td>\n",
       "      <td>185.0</td>\n",
       "      <td>82.0</td>\n",
       "      <td>Netherlands</td>\n",
       "      <td>NED</td>\n",
       "      <td>1988 Winter</td>\n",
       "      <td>1988</td>\n",
       "      <td>Winter</td>\n",
       "      <td>Calgary</td>\n",
       "      <td>Speed Skating</td>\n",
       "      <td>Speed Skating Women's 500 metres</td>\n",
       "      <td>NaN</td>\n",
       "    </tr>\n",
       "  </tbody>\n",
       "</table>\n",
       "</div>"
      ],
      "text/plain": [
       "   ID                      Name Sex   Age  Height  Weight            Team  \\\n",
       "0   1                 A Dijiang   M  24.0   180.0    80.0           China   \n",
       "1   2                  A Lamusi   M  23.0   170.0    60.0           China   \n",
       "2   3       Gunnar Nielsen Aaby   M  24.0     NaN     NaN         Denmark   \n",
       "3   4      Edgar Lindenau Aabye   M  34.0     NaN     NaN  Denmark/Sweden   \n",
       "4   5  Christine Jacoba Aaftink   F  21.0   185.0    82.0     Netherlands   \n",
       "\n",
       "   NOC        Games  Year  Season       City          Sport  \\\n",
       "0  CHN  1992 Summer  1992  Summer  Barcelona     Basketball   \n",
       "1  CHN  2012 Summer  2012  Summer     London           Judo   \n",
       "2  DEN  1920 Summer  1920  Summer  Antwerpen       Football   \n",
       "3  DEN  1900 Summer  1900  Summer      Paris     Tug-Of-War   \n",
       "4  NED  1988 Winter  1988  Winter    Calgary  Speed Skating   \n",
       "\n",
       "                              Event Medal  \n",
       "0       Basketball Men's Basketball   NaN  \n",
       "1      Judo Men's Extra-Lightweight   NaN  \n",
       "2           Football Men's Football   NaN  \n",
       "3       Tug-Of-War Men's Tug-Of-War  Gold  \n",
       "4  Speed Skating Women's 500 metres   NaN  "
      ]
     },
     "execution_count": 3,
     "metadata": {},
     "output_type": "execute_result"
    }
   ],
   "source": [
    "df.head()"
   ]
  },
  {
   "cell_type": "code",
   "execution_count": 86,
   "id": "23ca8d8f",
   "metadata": {},
   "outputs": [],
   "source": [
    "region_df.head()"
   ]
  },
  {
   "cell_type": "markdown",
   "id": "e1bd48d5",
   "metadata": {},
   "source": [
    "# Filtering the data for summer season "
   ]
  },
  {
   "cell_type": "code",
   "execution_count": 46,
   "id": "c2d65035",
   "metadata": {},
   "outputs": [],
   "source": [
    "df=df[df['Season']=='Summer']"
   ]
  },
  {
   "cell_type": "code",
   "execution_count": 47,
   "id": "aefec1e3",
   "metadata": {},
   "outputs": [],
   "source": [
    "df.head()\n",
    "# df3.drop(columns=['region_x','region_y','notes_y','notes_x'],inplace=True)"
   ]
  },
  {
   "cell_type": "markdown",
   "id": "2ac7e908",
   "metadata": {},
   "source": [
    "# Merging the data df and region_df"
   ]
  },
  {
   "cell_type": "code",
   "execution_count": 48,
   "id": "868626dd",
   "metadata": {},
   "outputs": [],
   "source": [
    "df=df.merge(region_df,on=\"NOC\",how='left')"
   ]
  },
  {
   "cell_type": "code",
   "execution_count": 49,
   "id": "f3e463d9",
   "metadata": {},
   "outputs": [],
   "source": [
    "df.head()"
   ]
  },
  {
   "cell_type": "markdown",
   "id": "ffe42b82",
   "metadata": {},
   "source": [
    "# Number of country paricipated "
   ]
  },
  {
   "cell_type": "code",
   "execution_count": 50,
   "id": "c5663689",
   "metadata": {},
   "outputs": [],
   "source": [
    "df['region'].unique()"
   ]
  },
  {
   "cell_type": "markdown",
   "id": "0a47f5d9",
   "metadata": {},
   "source": [
    "# Counting Missing and duplicates values"
   ]
  },
  {
   "cell_type": "code",
   "execution_count": 51,
   "id": "db265f63",
   "metadata": {},
   "outputs": [],
   "source": [
    "df.isnull().sum()"
   ]
  },
  {
   "cell_type": "code",
   "execution_count": 52,
   "id": "2b0a801e",
   "metadata": {},
   "outputs": [],
   "source": [
    "df.duplicated().sum()"
   ]
  },
  {
   "cell_type": "code",
   "execution_count": 53,
   "id": "7bb29497",
   "metadata": {},
   "outputs": [],
   "source": [
    "df.drop_duplicates(inplace=True)"
   ]
  },
  {
   "cell_type": "code",
   "execution_count": 54,
   "id": "632be087",
   "metadata": {},
   "outputs": [],
   "source": [
    "df.duplicated().sum()"
   ]
  },
  {
   "cell_type": "markdown",
   "id": "55081823",
   "metadata": {},
   "source": [
    "# Medal Count on the basis of region"
   ]
  },
  {
   "cell_type": "code",
   "execution_count": 55,
   "id": "5efee029",
   "metadata": {},
   "outputs": [],
   "source": [
    "df['Medal'].value_counts()"
   ]
  },
  {
   "cell_type": "code",
   "execution_count": 56,
   "id": "d83eed43",
   "metadata": {},
   "outputs": [],
   "source": [
    "# creating a dummy dataframe \n",
    "dummy=pd.get_dummies(df['Medal'])\n",
    "dummy"
   ]
  },
  {
   "cell_type": "code",
   "execution_count": 57,
   "id": "28b549ba",
   "metadata": {
    "scrolled": true
   },
   "outputs": [],
   "source": [
    "#concatanating dummy dataframe and orginal dataframe\n",
    "df=pd.concat([df,dummy],axis=1)\n",
    "df.head()"
   ]
  },
  {
   "cell_type": "code",
   "execution_count": 58,
   "id": "741665fe",
   "metadata": {},
   "outputs": [],
   "source": [
    "df.groupby('NOC').sum()[[\"Gold\",\"Silver\",\"Bronze\"]]"
   ]
  },
  {
   "cell_type": "code",
   "execution_count": 59,
   "id": "8ad50703",
   "metadata": {},
   "outputs": [],
   "source": [
    "df.head()"
   ]
  },
  {
   "cell_type": "code",
   "execution_count": 60,
   "id": "309eef99",
   "metadata": {},
   "outputs": [],
   "source": [
    "df[(df['NOC']==\"IND\") & (df['Medal']=='Gold')].head()"
   ]
  },
  {
   "cell_type": "code",
   "execution_count": 61,
   "id": "2915c71d",
   "metadata": {},
   "outputs": [],
   "source": [
    "medal_tally=df.drop_duplicates(subset=['Team','NOC','Games','Year','City','Sport','Event','Medal'])"
   ]
  },
  {
   "cell_type": "code",
   "execution_count": 62,
   "id": "8cf5b847",
   "metadata": {},
   "outputs": [],
   "source": [
    "medal_tally=medal_tally.groupby('NOC').sum()[[\"Gold\",\"Silver\",\"Bronze\"]].sort_values('Gold',ascending=False).reset_index()"
   ]
  },
  {
   "cell_type": "code",
   "execution_count": 63,
   "id": "61f67cf2",
   "metadata": {},
   "outputs": [],
   "source": [
    "medal_tally[medal_tally['NOC']=='IND']"
   ]
  },
  {
   "cell_type": "code",
   "execution_count": 64,
   "id": "718a47b5",
   "metadata": {},
   "outputs": [],
   "source": [
    "medal_tally['Total']=medal_tally['Gold']+medal_tally['Silver']+medal_tally['Bronze']"
   ]
  },
  {
   "cell_type": "code",
   "execution_count": 65,
   "id": "5efdd4bc",
   "metadata": {},
   "outputs": [],
   "source": [
    "medal_tally[medal_tally['NOC']=='IND']"
   ]
  },
  {
   "cell_type": "markdown",
   "id": "2e4806ad",
   "metadata": {},
   "source": [
    "# Years when olympics were played"
   ]
  },
  {
   "cell_type": "code",
   "execution_count": 66,
   "id": "d1b440f7",
   "metadata": {},
   "outputs": [],
   "source": [
    "year=df['Year'].unique().tolist()\n",
    "year.sort()\n",
    "year"
   ]
  },
  {
   "cell_type": "markdown",
   "id": "ec2ed35e",
   "metadata": {},
   "source": [
    "# Country where olympics were played"
   ]
  },
  {
   "cell_type": "code",
   "execution_count": 67,
   "id": "88d6eb9a",
   "metadata": {},
   "outputs": [],
   "source": [
    "country=df['region'].unique().tolist()"
   ]
  },
  {
   "cell_type": "code",
   "execution_count": 68,
   "id": "9f7c5b17",
   "metadata": {},
   "outputs": [],
   "source": [
    "len(country)"
   ]
  },
  {
   "cell_type": "code",
   "execution_count": 69,
   "id": "c1be6b69",
   "metadata": {},
   "outputs": [],
   "source": [
    "c1=np.unique(df['region'].dropna().values).tolist()"
   ]
  },
  {
   "cell_type": "code",
   "execution_count": 70,
   "id": "4bea2030",
   "metadata": {},
   "outputs": [],
   "source": [
    "c1.sort()"
   ]
  },
  {
   "cell_type": "code",
   "execution_count": 71,
   "id": "d9e515ee",
   "metadata": {
    "scrolled": false
   },
   "outputs": [],
   "source": [
    "# c1"
   ]
  },
  {
   "cell_type": "code",
   "execution_count": 72,
   "id": "61395220",
   "metadata": {},
   "outputs": [],
   "source": [
    "medal_df=df.drop_duplicates(subset=['Team','NOC','Games','Year','City','Sport','Event','Medal'])"
   ]
  },
  {
   "cell_type": "code",
   "execution_count": 73,
   "id": "2dd09901",
   "metadata": {},
   "outputs": [],
   "source": [
    "def fetch_model(year,country):\n",
    "    flag=0\n",
    "    if year == 'overall' and country == 'overall':\n",
    "        temp_df=medal_df\n",
    "    if year == 'overall' and country != 'overall':\n",
    "        temp_df=medal_df[medal_df['region']==country]\n",
    "        flag=1\n",
    "    if year != 'overall' and country == 'overall':\n",
    "        temp_df=medal_df[medal_df['Year']==int(year)]\n",
    "    if year != 'overall' and country != 'overall':\n",
    "        temp_df=medal_df[(medal_df['Year']==int(year)) & (medal_df['region']==country)]\n",
    "    if flag==1:    \n",
    "        X=temp_df.groupby('Year').sum()[['Gold','Silver','Bronze']].sort_values('Year').reset_index()\n",
    "    else:\n",
    "        X=temp_df.groupby('region').sum()[['Gold','Silver','Bronze']].sort_values('Gold').reset_index()\n",
    "        \n",
    "    X['total']=X['Gold']+X['Silver']+X['Bronze']\n",
    "    print(X)\n",
    "         "
   ]
  },
  {
   "cell_type": "code",
   "execution_count": 74,
   "id": "ef40dd66",
   "metadata": {},
   "outputs": [
    {
     "name": "stdout",
     "output_type": "stream",
     "text": [
      "Enter Year2016\n",
      "Enter CountryIndia\n"
     ]
    }
   ],
   "source": [
    "year=input(\"Enter Year\")\n",
    "country=input(\"Enter Country\")\n",
    "fetch_model(year,country)"
   ]
  },
  {
   "cell_type": "markdown",
   "id": "b8ccbf79",
   "metadata": {},
   "source": [
    "# No of Sports / Event / City / Years / Athletes Name / Region "
   ]
  },
  {
   "cell_type": "code",
   "execution_count": 75,
   "id": "7c1d1fb1",
   "metadata": {},
   "outputs": [],
   "source": [
    "df['Sport'].unique()"
   ]
  },
  {
   "cell_type": "code",
   "execution_count": 76,
   "id": "003e7e75",
   "metadata": {},
   "outputs": [],
   "source": [
    "df['Sport'].unique().shape[0]"
   ]
  },
  {
   "cell_type": "code",
   "execution_count": 77,
   "id": "f168d059",
   "metadata": {},
   "outputs": [],
   "source": [
    "df['Event'].unique().shape"
   ]
  },
  {
   "cell_type": "code",
   "execution_count": 78,
   "id": "dc892da5",
   "metadata": {},
   "outputs": [],
   "source": [
    "df['City'].unique().shape[0]"
   ]
  },
  {
   "cell_type": "code",
   "execution_count": 79,
   "id": "4886f633",
   "metadata": {},
   "outputs": [],
   "source": [
    "df[\"Year\"].unique().shape[0]-1        # 1906 olympic was invalid "
   ]
  },
  {
   "cell_type": "code",
   "execution_count": 80,
   "id": "bb786cfe",
   "metadata": {},
   "outputs": [],
   "source": [
    "df['Name'].unique().shape"
   ]
  },
  {
   "cell_type": "code",
   "execution_count": 81,
   "id": "9d6fe7f8",
   "metadata": {},
   "outputs": [],
   "source": [
    "df['region'].unique().shape"
   ]
  },
  {
   "cell_type": "code",
   "execution_count": 82,
   "id": "0caf0367",
   "metadata": {},
   "outputs": [],
   "source": [
    "No. of participating country over time "
   ]
  },
  {
   "cell_type": "code",
   "execution_count": 89,
   "id": "7a5e10b5",
   "metadata": {},
   "outputs": [],
   "source": [
    "import matplotlib.pyplot as plt"
   ]
  },
  {
   "cell_type": "code",
   "execution_count": 90,
   "id": "833a207a",
   "metadata": {},
   "outputs": [],
   "source": [
    "nation_over_time=df.drop_duplicates([\"Year\",\"region\"])['Year'].value_counts().reset_index().sort_values('Year')"
   ]
  },
  {
   "cell_type": "code",
   "execution_count": 91,
   "id": "1105260b",
   "metadata": {},
   "outputs": [],
   "source": [
    "nation_over_time.rename(columns={'count':'No. of Country'},inplace=True)"
   ]
  },
  {
   "cell_type": "code",
   "execution_count": 92,
   "id": "9f69ce3f",
   "metadata": {},
   "outputs": [],
   "source": [
    "plt.plot(nation_over_time['Year'],nation_over_time['No. of Country'])\n",
    "plt.xlabel(\"Years\")\n",
    "plt.ylabel(\"No. of Country\")\n",
    "plt.show()"
   ]
  },
  {
   "cell_type": "markdown",
   "id": "a8e83627",
   "metadata": {},
   "source": [
    "# No. of events over time "
   ]
  },
  {
   "cell_type": "code",
   "execution_count": 93,
   "id": "66c48abc",
   "metadata": {},
   "outputs": [],
   "source": [
    "events_count=df.drop_duplicates([\"Year\",\"Event\"])['Year'].value_counts().reset_index().sort_values('Year')\n",
    "events_count.rename(columns={'count':'No. of Event'},inplace=True)"
   ]
  },
  {
   "cell_type": "code",
   "execution_count": 94,
   "id": "18921556",
   "metadata": {},
   "outputs": [],
   "source": [
    "plt.plot(events_count['Year'],events_count['No. of Event'],color='g')\n",
    "plt.xlabel(\"Years\")\n",
    "plt.ylabel(\"No. of Events\")\n",
    "plt.show()"
   ]
  },
  {
   "cell_type": "markdown",
   "id": "a3459638",
   "metadata": {},
   "source": [
    "# No. of athletes over time"
   ]
  },
  {
   "cell_type": "code",
   "execution_count": 95,
   "id": "46b012d5",
   "metadata": {},
   "outputs": [],
   "source": [
    "athletes_over_time=df.drop_duplicates([\"Year\",\"Name\"])['Year'].value_counts().reset_index().sort_values('Year')\n",
    "athletes_over_time.rename(columns={\"count\":\"Total Athletes\"},inplace=True)"
   ]
  },
  {
   "cell_type": "code",
   "execution_count": 96,
   "id": "0bcffc25",
   "metadata": {},
   "outputs": [],
   "source": [
    "plt.plot(athletes_over_time['Year'],athletes_over_time['Total Athletes'],color='g')\n",
    "plt.xlabel(\"Years\")\n",
    "plt.ylabel(\"Total Athletes\")\n",
    "plt.show()"
   ]
  },
  {
   "cell_type": "markdown",
   "id": "980248bc",
   "metadata": {},
   "source": [
    "# No. of Sports  over year"
   ]
  },
  {
   "cell_type": "code",
   "execution_count": 97,
   "id": "a3837dea",
   "metadata": {},
   "outputs": [],
   "source": [
    "X=df.drop_duplicates([\"Year\",\"Sport\",\"Event\"])"
   ]
  },
  {
   "cell_type": "code",
   "execution_count": 101,
   "id": "5548f814",
   "metadata": {},
   "outputs": [],
   "source": [
    "import seaborn as sns\n",
    "plt.figure(figsize=(20,20))\n",
    "sns.heatmap(X.pivot_table(index='Sport',columns=\"Year\",values='Event',aggfunc=\"count\").fillna(0).astype(int),annot=True)"
   ]
  },
  {
   "cell_type": "markdown",
   "id": "cc39ab55",
   "metadata": {},
   "source": [
    "# List of Successful athletes "
   ]
  },
  {
   "cell_type": "code",
   "execution_count": 102,
   "id": "a6929e75",
   "metadata": {},
   "outputs": [],
   "source": [
    "def successful(df,sport):\n",
    "    temp_df2=df.dropna(subset=['Medal'])\n",
    "    if sport!=\"overall\":\n",
    "        temp_df2 = temp_df2[temp_df2[\"Sport\"]==sport]     \n",
    "    X=temp_df2['Name'].value_counts().reset_index()\n",
    "    return X.rename(columns={'count':'Total Medals'}).head(20)"
   ]
  },
  {
   "cell_type": "code",
   "execution_count": 103,
   "id": "5d0d9daf",
   "metadata": {},
   "outputs": [],
   "source": [
    "successful(df,'overall')"
   ]
  },
  {
   "cell_type": "markdown",
   "id": "038be528",
   "metadata": {},
   "source": [
    "# Country wise Medal tally per year"
   ]
  },
  {
   "cell_type": "code",
   "execution_count": 104,
   "id": "c4d1908f",
   "metadata": {},
   "outputs": [],
   "source": [
    "temp_df=df.dropna(subset=[\"Medal\"])\n",
    "temp_df.drop_duplicates(subset=['Team','NOC','Games','Year','City','Sport','Event','Medal'],inplace=True)"
   ]
  },
  {
   "cell_type": "code",
   "execution_count": 105,
   "id": "54f64103",
   "metadata": {},
   "outputs": [],
   "source": [
    "new_df=temp_df[temp_df['region']=='India']\n",
    "final_df=new_df.groupby(\"Year\").count()['Medal'].reset_index()"
   ]
  },
  {
   "cell_type": "code",
   "execution_count": 106,
   "id": "588ccb33",
   "metadata": {},
   "outputs": [],
   "source": [
    "final_df"
   ]
  },
  {
   "cell_type": "code",
   "execution_count": 107,
   "id": "062f6db1",
   "metadata": {},
   "outputs": [],
   "source": [
    "plt.plot(final_df['Year'],final_df['Medal'],color='g')\n",
    "plt.xlabel(\"Years\")\n",
    "plt.ylabel(\"Total Medals\")\n",
    "plt.show()"
   ]
  },
  {
   "cell_type": "markdown",
   "id": "5e42eb21",
   "metadata": {},
   "source": [
    "# which country is good at heatmap"
   ]
  },
  {
   "cell_type": "code",
   "execution_count": 108,
   "id": "cca27fb7",
   "metadata": {},
   "outputs": [],
   "source": [
    "new_df=temp_df[temp_df['region']=='UK']\n",
    "plt.figure(figsize=(15,15))\n",
    "sns.heatmap(new_df.pivot_table(index='Sport',columns='Year',values='Medal',aggfunc='count').fillna(0),annot=True)"
   ]
  },
  {
   "cell_type": "markdown",
   "id": "6acedcac",
   "metadata": {},
   "source": [
    "# Analysis of Height vs Weight in different- different sports "
   ]
  },
  {
   "cell_type": "code",
   "execution_count": 109,
   "id": "b7431fa9",
   "metadata": {},
   "outputs": [],
   "source": [
    "athlete_df=df.drop_duplicates(subset=['Name','region'])"
   ]
  },
  {
   "cell_type": "code",
   "execution_count": 110,
   "id": "a82d5b2c",
   "metadata": {},
   "outputs": [],
   "source": [
    "athlete_df['Medal'].fillna(\"No Medal\",inplace=True)"
   ]
  },
  {
   "cell_type": "code",
   "execution_count": 111,
   "id": "52113c67",
   "metadata": {},
   "outputs": [],
   "source": [
    "temp_df=athlete_df[athlete_df['Sport']==\"Athletics\"]"
   ]
  },
  {
   "cell_type": "code",
   "execution_count": 112,
   "id": "0a75ebf9",
   "metadata": {},
   "outputs": [],
   "source": [
    "plt.figure(figsize=(15,10))\n",
    "sns.scatterplot(x=temp_df['Weight'],y=temp_df['Height'],hue=temp_df['Medal'],style=temp_df['Sex'],s=80)"
   ]
  },
  {
   "cell_type": "markdown",
   "id": "7b173eb8",
   "metadata": {},
   "source": [
    "# Participation of Men Vs Women "
   ]
  },
  {
   "cell_type": "code",
   "execution_count": 113,
   "id": "c73f9355",
   "metadata": {},
   "outputs": [],
   "source": [
    "Men=athlete_df[athlete_df['Sex']==\"M\"].groupby(\"Year\").count()['Name'].reset_index()\n",
    "Women=athlete_df[athlete_df['Sex']==\"F\"].groupby(\"Year\").count()['Name'].reset_index()"
   ]
  },
  {
   "cell_type": "code",
   "execution_count": 114,
   "id": "9332e88e",
   "metadata": {},
   "outputs": [],
   "source": [
    "final=Men.merge(Women,on='Year',how='left',inplace=True)"
   ]
  },
  {
   "cell_type": "code",
   "execution_count": 115,
   "id": "a3814f4d",
   "metadata": {},
   "outputs": [],
   "source": [
    "final.rename(columns={'Name_x':'Men','Name_y':'Women'},inplace=True)\n",
    "final.head()"
   ]
  },
  {
   "cell_type": "code",
   "execution_count": 116,
   "id": "83476893",
   "metadata": {},
   "outputs": [],
   "source": [
    "final.fillna(0,inplace=True)"
   ]
  },
  {
   "cell_type": "code",
   "execution_count": 117,
   "id": "0ef9eb96",
   "metadata": {},
   "outputs": [],
   "source": [
    "final.astype(int).head()"
   ]
  },
  {
   "cell_type": "code",
   "execution_count": 118,
   "id": "97da55a9",
   "metadata": {},
   "outputs": [],
   "source": [
    "plt.plot(final['Year'],final['Men'],label=\"Men\")\n",
    "plt.plot(final['Year'],final['Women'],label='Women')\n",
    "plt.xlabel(\"Year\")\n",
    "plt.ylabel(\"Total Players\")\n",
    "plt.legend()"
   ]
  },
  {
   "cell_type": "code",
   "execution_count": null,
   "id": "2768a592",
   "metadata": {},
   "outputs": [],
   "source": []
  },
  {
   "cell_type": "code",
   "execution_count": null,
   "id": "9199190a",
   "metadata": {},
   "outputs": [],
   "source": []
  }
 ],
 "metadata": {
  "kernelspec": {
   "display_name": "Python 3 (ipykernel)",
   "language": "python",
   "name": "python3"
  },
  "language_info": {
   "codemirror_mode": {
    "name": "ipython",
    "version": 3
   },
   "file_extension": ".py",
   "mimetype": "text/x-python",
   "name": "python",
   "nbconvert_exporter": "python",
   "pygments_lexer": "ipython3",
   "version": "3.10.6"
  }
 },
 "nbformat": 4,
 "nbformat_minor": 5
}
